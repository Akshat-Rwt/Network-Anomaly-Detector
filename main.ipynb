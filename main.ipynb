{
 "cells": [
  {
   "cell_type": "markdown",
   "id": "ec467380",
   "metadata": {},
   "source": [
    "# Import the Libraires"
   ]
  },
  {
   "cell_type": "code",
   "execution_count": 1,
   "id": "d6484e91",
   "metadata": {},
   "outputs": [],
   "source": [
    "import pandas as pd\n",
    "import numpy as np\n",
    "import seaborn as sns\n",
    "import matplotlib.pyplot as plt\n",
    "\n",
    "from sklearn.preprocessing import LabelEncoder, MinMaxScaler\n",
    "from sklearn.ensemble import IsolationForest\n",
    "from sklearn.metrics import accuracy_score, precision_score, recall_score, f1_score, confusion_matrix\n",
    "\n",
    "from tensorflow.keras.models import Model\n",
    "from tensorflow.keras.layers import Input, Dense\n",
    "from tensorflow.keras.optimizers import Adam\n"
   ]
  },
  {
   "cell_type": "markdown",
   "id": "e9768ff1",
   "metadata": {},
   "source": [
    "# Load Your CSV File"
   ]
  },
  {
   "cell_type": "code",
   "execution_count": 2,
   "id": "7ad82952",
   "metadata": {},
   "outputs": [
    {
     "data": {
      "application/vnd.microsoft.datawrangler.viewer.v0+json": {
       "columns": [
        {
         "name": "index",
         "rawType": "int64",
         "type": "integer"
        },
        {
         "name": "duration",
         "rawType": "int64",
         "type": "integer"
        },
        {
         "name": "protocol_type",
         "rawType": "object",
         "type": "string"
        },
        {
         "name": "service",
         "rawType": "object",
         "type": "string"
        },
        {
         "name": "flag",
         "rawType": "object",
         "type": "string"
        },
        {
         "name": "src_bytes",
         "rawType": "int64",
         "type": "integer"
        },
        {
         "name": "dst_bytes",
         "rawType": "int64",
         "type": "integer"
        },
        {
         "name": "land",
         "rawType": "int64",
         "type": "integer"
        },
        {
         "name": "wrong_fragment",
         "rawType": "int64",
         "type": "integer"
        },
        {
         "name": "urgent",
         "rawType": "int64",
         "type": "integer"
        },
        {
         "name": "hot",
         "rawType": "int64",
         "type": "integer"
        },
        {
         "name": "num_failed_logins",
         "rawType": "int64",
         "type": "integer"
        },
        {
         "name": "logged_in",
         "rawType": "int64",
         "type": "integer"
        },
        {
         "name": "lnum_compromised",
         "rawType": "int64",
         "type": "integer"
        },
        {
         "name": "lroot_shell",
         "rawType": "int64",
         "type": "integer"
        },
        {
         "name": "lsu_attempted",
         "rawType": "int64",
         "type": "integer"
        },
        {
         "name": "lnum_root",
         "rawType": "int64",
         "type": "integer"
        },
        {
         "name": "lnum_file_creations",
         "rawType": "int64",
         "type": "integer"
        },
        {
         "name": "lnum_shells",
         "rawType": "int64",
         "type": "integer"
        },
        {
         "name": "lnum_access_files",
         "rawType": "int64",
         "type": "integer"
        },
        {
         "name": "lnum_outbound_cmds",
         "rawType": "int64",
         "type": "integer"
        },
        {
         "name": "is_host_login",
         "rawType": "int64",
         "type": "integer"
        },
        {
         "name": "is_guest_login",
         "rawType": "int64",
         "type": "integer"
        },
        {
         "name": "count",
         "rawType": "int64",
         "type": "integer"
        },
        {
         "name": "srv_count",
         "rawType": "int64",
         "type": "integer"
        },
        {
         "name": "serror_rate",
         "rawType": "float64",
         "type": "float"
        },
        {
         "name": "srv_serror_rate",
         "rawType": "float64",
         "type": "float"
        },
        {
         "name": "rerror_rate",
         "rawType": "float64",
         "type": "float"
        },
        {
         "name": "srv_rerror_rate",
         "rawType": "float64",
         "type": "float"
        },
        {
         "name": "same_srv_rate",
         "rawType": "float64",
         "type": "float"
        },
        {
         "name": "diff_srv_rate",
         "rawType": "float64",
         "type": "float"
        },
        {
         "name": "srv_diff_host_rate",
         "rawType": "float64",
         "type": "float"
        },
        {
         "name": "dst_host_count",
         "rawType": "int64",
         "type": "integer"
        },
        {
         "name": "dst_host_srv_count",
         "rawType": "int64",
         "type": "integer"
        },
        {
         "name": "dst_host_same_srv_rate",
         "rawType": "float64",
         "type": "float"
        },
        {
         "name": "dst_host_diff_srv_rate",
         "rawType": "float64",
         "type": "float"
        },
        {
         "name": "dst_host_same_src_port_rate",
         "rawType": "float64",
         "type": "float"
        },
        {
         "name": "dst_host_srv_diff_host_rate",
         "rawType": "float64",
         "type": "float"
        },
        {
         "name": "dst_host_serror_rate",
         "rawType": "float64",
         "type": "float"
        },
        {
         "name": "dst_host_srv_serror_rate",
         "rawType": "float64",
         "type": "float"
        },
        {
         "name": "dst_host_rerror_rate",
         "rawType": "float64",
         "type": "float"
        },
        {
         "name": "dst_host_srv_rerror_rate",
         "rawType": "float64",
         "type": "float"
        },
        {
         "name": "label",
         "rawType": "object",
         "type": "string"
        }
       ],
       "ref": "20fc1d82-a149-4ef8-b957-3af5469a9751",
       "rows": [
        [
         "0",
         "0",
         "tcp",
         "http",
         "SF",
         "181",
         "5450",
         "0",
         "0",
         "0",
         "0",
         "0",
         "1",
         "0",
         "0",
         "0",
         "0",
         "0",
         "0",
         "0",
         "0",
         "0",
         "0",
         "8",
         "8",
         "0.0",
         "0.0",
         "0.0",
         "0.0",
         "1.0",
         "0.0",
         "0.0",
         "9",
         "9",
         "1.0",
         "0.0",
         "0.11",
         "0.0",
         "0.0",
         "0.0",
         "0.0",
         "0.0",
         "normal"
        ],
        [
         "1",
         "0",
         "tcp",
         "http",
         "SF",
         "239",
         "486",
         "0",
         "0",
         "0",
         "0",
         "0",
         "1",
         "0",
         "0",
         "0",
         "0",
         "0",
         "0",
         "0",
         "0",
         "0",
         "0",
         "8",
         "8",
         "0.0",
         "0.0",
         "0.0",
         "0.0",
         "1.0",
         "0.0",
         "0.0",
         "19",
         "19",
         "1.0",
         "0.0",
         "0.05",
         "0.0",
         "0.0",
         "0.0",
         "0.0",
         "0.0",
         "normal"
        ],
        [
         "2",
         "0",
         "tcp",
         "http",
         "SF",
         "235",
         "1337",
         "0",
         "0",
         "0",
         "0",
         "0",
         "1",
         "0",
         "0",
         "0",
         "0",
         "0",
         "0",
         "0",
         "0",
         "0",
         "0",
         "8",
         "8",
         "0.0",
         "0.0",
         "0.0",
         "0.0",
         "1.0",
         "0.0",
         "0.0",
         "29",
         "29",
         "1.0",
         "0.0",
         "0.03",
         "0.0",
         "0.0",
         "0.0",
         "0.0",
         "0.0",
         "normal"
        ],
        [
         "3",
         "0",
         "tcp",
         "http",
         "SF",
         "219",
         "1337",
         "0",
         "0",
         "0",
         "0",
         "0",
         "1",
         "0",
         "0",
         "0",
         "0",
         "0",
         "0",
         "0",
         "0",
         "0",
         "0",
         "6",
         "6",
         "0.0",
         "0.0",
         "0.0",
         "0.0",
         "1.0",
         "0.0",
         "0.0",
         "39",
         "39",
         "1.0",
         "0.0",
         "0.03",
         "0.0",
         "0.0",
         "0.0",
         "0.0",
         "0.0",
         "normal"
        ],
        [
         "4",
         "0",
         "tcp",
         "http",
         "SF",
         "217",
         "2032",
         "0",
         "0",
         "0",
         "0",
         "0",
         "1",
         "0",
         "0",
         "0",
         "0",
         "0",
         "0",
         "0",
         "0",
         "0",
         "0",
         "6",
         "6",
         "0.0",
         "0.0",
         "0.0",
         "0.0",
         "1.0",
         "0.0",
         "0.0",
         "49",
         "49",
         "1.0",
         "0.0",
         "0.02",
         "0.0",
         "0.0",
         "0.0",
         "0.0",
         "0.0",
         "normal"
        ]
       ],
       "shape": {
        "columns": 42,
        "rows": 5
       }
      },
      "text/html": [
       "<div>\n",
       "<style scoped>\n",
       "    .dataframe tbody tr th:only-of-type {\n",
       "        vertical-align: middle;\n",
       "    }\n",
       "\n",
       "    .dataframe tbody tr th {\n",
       "        vertical-align: top;\n",
       "    }\n",
       "\n",
       "    .dataframe thead th {\n",
       "        text-align: right;\n",
       "    }\n",
       "</style>\n",
       "<table border=\"1\" class=\"dataframe\">\n",
       "  <thead>\n",
       "    <tr style=\"text-align: right;\">\n",
       "      <th></th>\n",
       "      <th>duration</th>\n",
       "      <th>protocol_type</th>\n",
       "      <th>service</th>\n",
       "      <th>flag</th>\n",
       "      <th>src_bytes</th>\n",
       "      <th>dst_bytes</th>\n",
       "      <th>land</th>\n",
       "      <th>wrong_fragment</th>\n",
       "      <th>urgent</th>\n",
       "      <th>hot</th>\n",
       "      <th>...</th>\n",
       "      <th>dst_host_srv_count</th>\n",
       "      <th>dst_host_same_srv_rate</th>\n",
       "      <th>dst_host_diff_srv_rate</th>\n",
       "      <th>dst_host_same_src_port_rate</th>\n",
       "      <th>dst_host_srv_diff_host_rate</th>\n",
       "      <th>dst_host_serror_rate</th>\n",
       "      <th>dst_host_srv_serror_rate</th>\n",
       "      <th>dst_host_rerror_rate</th>\n",
       "      <th>dst_host_srv_rerror_rate</th>\n",
       "      <th>label</th>\n",
       "    </tr>\n",
       "  </thead>\n",
       "  <tbody>\n",
       "    <tr>\n",
       "      <th>0</th>\n",
       "      <td>0</td>\n",
       "      <td>tcp</td>\n",
       "      <td>http</td>\n",
       "      <td>SF</td>\n",
       "      <td>181</td>\n",
       "      <td>5450</td>\n",
       "      <td>0</td>\n",
       "      <td>0</td>\n",
       "      <td>0</td>\n",
       "      <td>0</td>\n",
       "      <td>...</td>\n",
       "      <td>9</td>\n",
       "      <td>1.0</td>\n",
       "      <td>0.0</td>\n",
       "      <td>0.11</td>\n",
       "      <td>0.0</td>\n",
       "      <td>0.0</td>\n",
       "      <td>0.0</td>\n",
       "      <td>0.0</td>\n",
       "      <td>0.0</td>\n",
       "      <td>normal</td>\n",
       "    </tr>\n",
       "    <tr>\n",
       "      <th>1</th>\n",
       "      <td>0</td>\n",
       "      <td>tcp</td>\n",
       "      <td>http</td>\n",
       "      <td>SF</td>\n",
       "      <td>239</td>\n",
       "      <td>486</td>\n",
       "      <td>0</td>\n",
       "      <td>0</td>\n",
       "      <td>0</td>\n",
       "      <td>0</td>\n",
       "      <td>...</td>\n",
       "      <td>19</td>\n",
       "      <td>1.0</td>\n",
       "      <td>0.0</td>\n",
       "      <td>0.05</td>\n",
       "      <td>0.0</td>\n",
       "      <td>0.0</td>\n",
       "      <td>0.0</td>\n",
       "      <td>0.0</td>\n",
       "      <td>0.0</td>\n",
       "      <td>normal</td>\n",
       "    </tr>\n",
       "    <tr>\n",
       "      <th>2</th>\n",
       "      <td>0</td>\n",
       "      <td>tcp</td>\n",
       "      <td>http</td>\n",
       "      <td>SF</td>\n",
       "      <td>235</td>\n",
       "      <td>1337</td>\n",
       "      <td>0</td>\n",
       "      <td>0</td>\n",
       "      <td>0</td>\n",
       "      <td>0</td>\n",
       "      <td>...</td>\n",
       "      <td>29</td>\n",
       "      <td>1.0</td>\n",
       "      <td>0.0</td>\n",
       "      <td>0.03</td>\n",
       "      <td>0.0</td>\n",
       "      <td>0.0</td>\n",
       "      <td>0.0</td>\n",
       "      <td>0.0</td>\n",
       "      <td>0.0</td>\n",
       "      <td>normal</td>\n",
       "    </tr>\n",
       "    <tr>\n",
       "      <th>3</th>\n",
       "      <td>0</td>\n",
       "      <td>tcp</td>\n",
       "      <td>http</td>\n",
       "      <td>SF</td>\n",
       "      <td>219</td>\n",
       "      <td>1337</td>\n",
       "      <td>0</td>\n",
       "      <td>0</td>\n",
       "      <td>0</td>\n",
       "      <td>0</td>\n",
       "      <td>...</td>\n",
       "      <td>39</td>\n",
       "      <td>1.0</td>\n",
       "      <td>0.0</td>\n",
       "      <td>0.03</td>\n",
       "      <td>0.0</td>\n",
       "      <td>0.0</td>\n",
       "      <td>0.0</td>\n",
       "      <td>0.0</td>\n",
       "      <td>0.0</td>\n",
       "      <td>normal</td>\n",
       "    </tr>\n",
       "    <tr>\n",
       "      <th>4</th>\n",
       "      <td>0</td>\n",
       "      <td>tcp</td>\n",
       "      <td>http</td>\n",
       "      <td>SF</td>\n",
       "      <td>217</td>\n",
       "      <td>2032</td>\n",
       "      <td>0</td>\n",
       "      <td>0</td>\n",
       "      <td>0</td>\n",
       "      <td>0</td>\n",
       "      <td>...</td>\n",
       "      <td>49</td>\n",
       "      <td>1.0</td>\n",
       "      <td>0.0</td>\n",
       "      <td>0.02</td>\n",
       "      <td>0.0</td>\n",
       "      <td>0.0</td>\n",
       "      <td>0.0</td>\n",
       "      <td>0.0</td>\n",
       "      <td>0.0</td>\n",
       "      <td>normal</td>\n",
       "    </tr>\n",
       "  </tbody>\n",
       "</table>\n",
       "<p>5 rows × 42 columns</p>\n",
       "</div>"
      ],
      "text/plain": [
       "   duration protocol_type service flag  src_bytes  dst_bytes  land  \\\n",
       "0         0           tcp    http   SF        181       5450     0   \n",
       "1         0           tcp    http   SF        239        486     0   \n",
       "2         0           tcp    http   SF        235       1337     0   \n",
       "3         0           tcp    http   SF        219       1337     0   \n",
       "4         0           tcp    http   SF        217       2032     0   \n",
       "\n",
       "   wrong_fragment  urgent  hot  ...  dst_host_srv_count  \\\n",
       "0               0       0    0  ...                   9   \n",
       "1               0       0    0  ...                  19   \n",
       "2               0       0    0  ...                  29   \n",
       "3               0       0    0  ...                  39   \n",
       "4               0       0    0  ...                  49   \n",
       "\n",
       "   dst_host_same_srv_rate  dst_host_diff_srv_rate  \\\n",
       "0                     1.0                     0.0   \n",
       "1                     1.0                     0.0   \n",
       "2                     1.0                     0.0   \n",
       "3                     1.0                     0.0   \n",
       "4                     1.0                     0.0   \n",
       "\n",
       "   dst_host_same_src_port_rate  dst_host_srv_diff_host_rate  \\\n",
       "0                         0.11                          0.0   \n",
       "1                         0.05                          0.0   \n",
       "2                         0.03                          0.0   \n",
       "3                         0.03                          0.0   \n",
       "4                         0.02                          0.0   \n",
       "\n",
       "   dst_host_serror_rate  dst_host_srv_serror_rate  dst_host_rerror_rate  \\\n",
       "0                   0.0                       0.0                   0.0   \n",
       "1                   0.0                       0.0                   0.0   \n",
       "2                   0.0                       0.0                   0.0   \n",
       "3                   0.0                       0.0                   0.0   \n",
       "4                   0.0                       0.0                   0.0   \n",
       "\n",
       "   dst_host_srv_rerror_rate   label  \n",
       "0                       0.0  normal  \n",
       "1                       0.0  normal  \n",
       "2                       0.0  normal  \n",
       "3                       0.0  normal  \n",
       "4                       0.0  normal  \n",
       "\n",
       "[5 rows x 42 columns]"
      ]
     },
     "execution_count": 2,
     "metadata": {},
     "output_type": "execute_result"
    }
   ],
   "source": [
    "df = pd.read_csv(\"sample.csv\")\n",
    "df.head()\n"
   ]
  },
  {
   "cell_type": "markdown",
   "id": "b7e0b8a9",
   "metadata": {},
   "source": [
    "# Preprocessing (Encode + Scale)"
   ]
  },
  {
   "cell_type": "code",
   "execution_count": 3,
   "id": "ed6157cf",
   "metadata": {},
   "outputs": [],
   "source": [
    "# Encode categorical columns\n",
    "cat_cols = df.select_dtypes(include=['object']).columns.tolist()\n",
    "\n",
    "# Convert label column to 0/1 if it exists\n",
    "if 'label' in df.columns:\n",
    "    df['label'] = df['label'].apply(lambda x: 0 if x == 'normal.' or x == 0 else 1)\n",
    "else:\n",
    "    df['label'] = -1  # For unsupervised use\n",
    "\n",
    "# Label encoding\n",
    "for col in cat_cols:\n",
    "    df[col] = LabelEncoder().fit_transform(df[col])\n",
    "\n",
    "# Separate features and labels\n",
    "X = df.drop('label', axis=1)\n",
    "y = df['label']\n",
    "X_scaled = MinMaxScaler().fit_transform(X)\n"
   ]
  },
  {
   "cell_type": "markdown",
   "id": "4eaba6a0",
   "metadata": {},
   "source": [
    "# Isolation Forest"
   ]
  },
  {
   "cell_type": "code",
   "execution_count": 4,
   "id": "821bad6b",
   "metadata": {},
   "outputs": [
    {
     "name": "stdout",
     "output_type": "stream",
     "text": [
      "✅ Isolation Forest detected 64660 anomalies out of 494020 rows.\n"
     ]
    }
   ],
   "source": [
    "iso_model = IsolationForest(n_estimators=100, contamination='auto', random_state=42)\n",
    "preds_if = iso_model.fit_predict(X_scaled)\n",
    "preds_if = [0 if p == 1 else 1 for p in preds_if]\n",
    "\n",
    "print(f\"✅ Isolation Forest detected {sum(preds_if)} anomalies out of {len(preds_if)} rows.\")\n"
   ]
  },
  {
   "cell_type": "markdown",
   "id": "48fe3605",
   "metadata": {},
   "source": [
    "# Autoencoder"
   ]
  },
  {
   "cell_type": "code",
   "execution_count": 5,
   "id": "27d304fc",
   "metadata": {},
   "outputs": [
    {
     "name": "stdout",
     "output_type": "stream",
     "text": [
      "\u001b[1m15439/15439\u001b[0m \u001b[32m━━━━━━━━━━━━━━━━━━━━\u001b[0m\u001b[37m\u001b[0m \u001b[1m12s\u001b[0m 743us/step\n",
      "✅ Autoencoder detected 24701 anomalies out of 494020 rows.\n"
     ]
    }
   ],
   "source": [
    "input_dim = X_scaled.shape[1]\n",
    "\n",
    "input_layer = Input(shape=(input_dim,))\n",
    "encoded = Dense(20, activation='relu')(input_layer)\n",
    "decoded = Dense(input_dim, activation='sigmoid')(encoded)\n",
    "\n",
    "autoencoder = Model(inputs=input_layer, outputs=decoded)\n",
    "autoencoder.compile(optimizer=Adam(), loss='mse')\n",
    "\n",
    "# Train\n",
    "autoencoder.fit(X_scaled, X_scaled, epochs=5, batch_size=256, verbose=0)\n",
    "\n",
    "# Predict\n",
    "reconstructions = autoencoder.predict(X_scaled)\n",
    "mse = np.mean(np.power(X_scaled - reconstructions, 2), axis=1)\n",
    "\n",
    "# Threshold\n",
    "threshold = np.percentile(mse, 95)\n",
    "preds_ae = [1 if e > threshold else 0 for e in mse]\n",
    "\n",
    "print(f\"✅ Autoencoder detected {sum(preds_ae)} anomalies out of {len(preds_ae)} rows.\")\n"
   ]
  },
  {
   "cell_type": "markdown",
   "id": "39ce1914",
   "metadata": {},
   "source": [
    "# Evaluation"
   ]
  },
  {
   "cell_type": "code",
   "execution_count": 6,
   "id": "afa350fe",
   "metadata": {},
   "outputs": [
    {
     "name": "stdout",
     "output_type": "stream",
     "text": [
      "\n",
      "📊 Isolation Forest Evaluation:\n",
      "Accuracy:  0.8691\n",
      "Precision: 0.0000\n",
      "Recall:    0.0000\n",
      "F1 Score:  0.0000\n",
      "\n",
      "📊 Autoencoder Evaluation:\n",
      "Accuracy:  0.9500\n",
      "Precision: 0.0000\n",
      "Recall:    0.0000\n",
      "F1 Score:  0.0000\n"
     ]
    }
   ],
   "source": [
    "def evaluate_model(name, y_true, y_pred):\n",
    "    acc = accuracy_score(y_true, y_pred)\n",
    "    prec = precision_score(y_true, y_pred, zero_division=0)\n",
    "    rec = recall_score(y_true, y_pred, zero_division=0)\n",
    "    f1 = f1_score(y_true, y_pred, zero_division=0)\n",
    "    \n",
    "    print(f\"\\n📊 {name} Evaluation:\")\n",
    "    print(f\"Accuracy:  {acc:.4f}\")\n",
    "    print(f\"Precision: {prec:.4f}\")\n",
    "    print(f\"Recall:    {rec:.4f}\")\n",
    "    print(f\"F1 Score:  {f1:.4f}\")\n",
    "\n",
    "# Run evaluations\n",
    "evaluate_model(\"Isolation Forest\", y, preds_if)\n",
    "evaluate_model(\"Autoencoder\", y, preds_ae)\n"
   ]
  },
  {
   "cell_type": "markdown",
   "id": "5e210735",
   "metadata": {},
   "source": [
    "# MSE Plot (Autoencoder)"
   ]
  },
  {
   "cell_type": "code",
   "execution_count": 7,
   "id": "7542429d",
   "metadata": {},
   "outputs": [
    {
     "data": {
      "image/png": "[encoded data removed]",
      "text/plain": [
       "<Figure size 600x400 with 1 Axes>"
      ]
     },
     "metadata": {},
     "output_type": "display_data"
    }
   ],
   "source": [
    "plt.figure(figsize=(6, 4))\n",
    "plt.hist(mse, bins=50, alpha=0.7)\n",
    "plt.axvline(threshold, color='red', linestyle='--', label=f'Threshold: {threshold:.5f}')\n",
    "plt.title('MSE Distribution (Autoencoder)')\n",
    "plt.xlabel('Reconstruction Error')\n",
    "plt.ylabel('Frequency')\n",
    "plt.legend()\n",
    "plt.show()\n"
   ]
  }
 ],
 "metadata": {
  "kernelspec": {
   "display_name": "Python 3",
   "language": "python",
   "name": "python3"
  },
  "language_info": {
   "codemirror_mode": {
    "name": "ipython",
    "version": 3
   },
   "file_extension": ".py",
   "mimetype": "text/x-python",
   "name": "python",
   "nbconvert_exporter": "python",
   "pygments_lexer": "ipython3",
   "version": "3.10.11"
  }
 },
 "nbformat": 4,
 "nbformat_minor": 5
}
